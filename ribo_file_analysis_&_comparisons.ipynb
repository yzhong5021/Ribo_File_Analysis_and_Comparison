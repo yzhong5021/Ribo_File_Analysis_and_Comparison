{
 "cells": [
  {
   "cell_type": "code",
   "execution_count": 3,
   "id": "47a9f5e9",
   "metadata": {},
   "outputs": [],
   "source": [
    "import matplotlib.pyplot as plt\n",
    "import numpy as np\n",
    "from scipy.stats import spearmanr\n",
    "from scipy.optimize import curve_fit\n",
    "from sklearn.metrics import r2_score as r2_score\n",
    "from sklearn.metrics import mean_squared_error as mse\n",
    "import pandas as pd\n",
    "import math\n",
    "import ribopy\n",
    "from utils import *\n",
    "%matplotlib inline"
   ]
  },
  {
   "cell_type": "code",
   "execution_count": null,
   "id": "4c7637aa",
   "metadata": {},
   "outputs": [],
   "source": [
    "####EXAMPLE_USAGE####\n",
    "\n",
    "ND = \"/home/yzhong/umi_research/riboflow-082ff926b9ca6ff1ddb596aa9ea53fc3b24e51a9/output/ribo/all.ribo\"\n",
    "PCR = \"/home/yzhong/umi_research/riboflow/output/ribo/all.ribo\"\n",
    "UMI = \"/home/yzhong/umi_research/riboflow/output_umi/ribo/all.ribo\"\n",
    "\n",
    "TRANSCRIPTS = [\"ENST00000525239.5|ENSG00000133316.15|OTTHUMG00000167695.4|OTTHUMT00000395678.1|WDR74-204|WDR74|1736|protein_coding|\"]\n",
    "\n",
    "annotations = \"/home/yzhong/umi_research/riboflow/references_for_riboflow/transcriptome/human/v1/riboflow_annot_and_ref/appris_human_v1_actual_regions.bed\"\n",
    "ribo_commands(ND, ribofile2 = PCR, minlength = 28, maxlength = 32, lengthdist=True, regioncounts = True, metagene=True, \n",
    "              comparetranscriptcounts=True, experiments = [\"GSM4798525\"], experiments2 = [\"GSM4798525\"], regions = [\"CDS\"],\n",
    "              individualtranscript = False, transcriptregions = [], annotations = annotations)\n",
    "ribo_commands(ND, ribofile2 = UMI, minlength = 28, maxlength = 32, lengthdist=True, regioncounts = True, metagene=True, \n",
    "              comparetranscriptcounts=True, experiments = [\"GSM4798525\"], experiments2 = [\"GSM4798525\"], regions = [\"CDS\"],\n",
    "              individualtranscript = False, transcriptregions = [], annotations = annotations)\n",
    "ribo_commands(PCR, ribofile2 = UMI, minlength = 28, maxlength = 32, lengthdist=True, regioncounts = True, metagene=True, \n",
    "              comparetranscriptcounts=True, experiments = [\"GSM4798525\"], experiments2 = [\"GSM4798525\"], regions = [\"CDS\"],\n",
    "              individualtranscript = False, transcriptregions = [], annotations = annotations)\n",
    "\n",
    "\n"
   ]
  }
 ],
 "metadata": {
  "kernelspec": {
   "display_name": "Python 3 (ipykernel)",
   "language": "python",
   "name": "python3"
  },
  "language_info": {
   "codemirror_mode": {
    "name": "ipython",
    "version": 3
   },
   "file_extension": ".py",
   "mimetype": "text/x-python",
   "name": "python",
   "nbconvert_exporter": "python",
   "pygments_lexer": "ipython3",
   "version": "3.7.12"
  }
 },
 "nbformat": 4,
 "nbformat_minor": 5
}
